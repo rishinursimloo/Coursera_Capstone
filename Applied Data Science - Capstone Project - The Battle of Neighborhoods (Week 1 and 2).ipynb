{
 "cells": [
  {
   "cell_type": "markdown",
   "metadata": {},
   "source": [
    "# Capstone Project - The Battle of Neighborhoods (Week 1)\n",
    "### by Rishi Kumar Nursimloo"
   ]
  },
  {
   "cell_type": "markdown",
   "metadata": {},
   "source": [
    "## 1. Introduction/Business Problem\n",
    "#### A description of the problem and a discussion of the background\n",
    "\n",
    "A client is looking to start up his own start-up business within the technology sector. He resides in the United Kingdom and is looking for recommendations i.e. attractive hotspots to find and set up his office. Money does not appear to be an issue and therefore is very flexible in terms of cost to purchase an office. Since London is the largest and fasting growing tech hub in the UK, we will look within this region."
   ]
  },
  {
   "cell_type": "markdown",
   "metadata": {},
   "source": [
    "## 2. Data\n",
    "#### A description of the data and how it will be used to solve the problem\n",
    "\n",
    "We shall be using location data via Wikipedia (United Kingdom Postcodes) and FourSquare API to solve this problem. We will gain the Longitude and latitude of each postcode, utilie the geopy library to get the latitude and longitude values of London, UK. Together, by leveraging FourSquare API, allow us to explore, segment and cluster neighbourhoods in London, UK and look at other interesting insights such as unique categories and the frequency of occurrence of each category. We could look into other datasets and take this as far as we want in terms of deep diving into the respective area e.g. crime rates if the client wanted to look at safety of boroughs, but for the time being this will be more than sufficient."
   ]
  }
 ],
 "metadata": {
  "language_info": {
   "codemirror_mode": {
    "name": "ipython",
    "version": 3
   },
   "file_extension": ".py",
   "mimetype": "text/x-python",
   "name": "python",
   "nbconvert_exporter": "python",
   "pygments_lexer": "ipython3",
   "version": 3
  },
  "orig_nbformat": 2
 },
 "nbformat": 4,
 "nbformat_minor": 2
}